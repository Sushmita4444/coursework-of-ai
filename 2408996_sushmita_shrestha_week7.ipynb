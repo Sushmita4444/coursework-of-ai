{
  "nbformat": 4,
  "nbformat_minor": 0,
  "metadata": {
    "colab": {
      "provenance": []
    },
    "kernelspec": {
      "name": "python3",
      "display_name": "Python 3"
    },
    "language_info": {
      "name": "python"
    }
  },
  "cells": [
    {
      "cell_type": "code",
      "execution_count": null,
      "metadata": {
        "colab": {
          "base_uri": "https://localhost:8080/"
        },
        "id": "ncXRHSfx5-s9",
        "outputId": "028896ae-4d70-4598-aaf6-d792929abeac"
      },
      "outputs": [
        {
          "output_type": "stream",
          "name": "stdout",
          "text": [
            "Requirement already satisfied: pandas in /usr/local/lib/python3.10/dist-packages (2.2.2)\n",
            "Requirement already satisfied: scikit-learn in /usr/local/lib/python3.10/dist-packages (1.6.0)\n",
            "Requirement already satisfied: numpy>=1.22.4 in /usr/local/lib/python3.10/dist-packages (from pandas) (1.26.4)\n",
            "Requirement already satisfied: python-dateutil>=2.8.2 in /usr/local/lib/python3.10/dist-packages (from pandas) (2.8.2)\n",
            "Requirement already satisfied: pytz>=2020.1 in /usr/local/lib/python3.10/dist-packages (from pandas) (2024.2)\n",
            "Requirement already satisfied: tzdata>=2022.7 in /usr/local/lib/python3.10/dist-packages (from pandas) (2024.2)\n",
            "Requirement already satisfied: scipy>=1.6.0 in /usr/local/lib/python3.10/dist-packages (from scikit-learn) (1.13.1)\n",
            "Requirement already satisfied: joblib>=1.2.0 in /usr/local/lib/python3.10/dist-packages (from scikit-learn) (1.4.2)\n",
            "Requirement already satisfied: threadpoolctl>=3.1.0 in /usr/local/lib/python3.10/dist-packages (from scikit-learn) (3.5.0)\n",
            "Requirement already satisfied: six>=1.5 in /usr/local/lib/python3.10/dist-packages (from python-dateutil>=2.8.2->pandas) (1.17.0)\n"
          ]
        }
      ],
      "source": [
        "pip install pandas scikit-learn\n"
      ]
    },
    {
      "cell_type": "code",
      "source": [
        "import pandas as pd\n",
        "\n",
        "# Load the dataset\n",
        "data = pd.read_csv('/content/drive/MyDrive/datasets/diabetes (1).csv')\n",
        "\n",
        "# Display the first few rows\n",
        "print(data.head())\n"
      ],
      "metadata": {
        "colab": {
          "base_uri": "https://localhost:8080/"
        },
        "id": "uZzyoiyF6G2R",
        "outputId": "60ac07cd-80da-4db3-c639-61e72ec0598a"
      },
      "execution_count": null,
      "outputs": [
        {
          "output_type": "stream",
          "name": "stdout",
          "text": [
            "   Pregnancies  Glucose  BloodPressure  SkinThickness  Insulin   BMI  \\\n",
            "0            6      148             72             35        0  33.6   \n",
            "1            1       85             66             29        0  26.6   \n",
            "2            8      183             64              0        0  23.3   \n",
            "3            1       89             66             23       94  28.1   \n",
            "4            0      137             40             35      168  43.1   \n",
            "\n",
            "   DiabetesPedigreeFunction  Age  Outcome  \n",
            "0                     0.627   50        1  \n",
            "1                     0.351   31        0  \n",
            "2                     0.672   32        1  \n",
            "3                     0.167   21        0  \n",
            "4                     2.288   33        1  \n"
          ]
        }
      ]
    },
    {
      "cell_type": "markdown",
      "source": [
        "Step 3: Regression Task (Predict Blood Pressure)\n",
        "\n",
        "Prepare Data:\n",
        "\n",
        "Features: All columns except BloodPressure.\n",
        "\n",
        "Target: BloodPressure."
      ],
      "metadata": {
        "id": "kn-cn4xQ6gbJ"
      }
    },
    {
      "cell_type": "code",
      "source": [
        "# Features and target for regression\n",
        "X_reg = data.drop('BloodPressure', axis=1)\n",
        "y_reg = data['BloodPressure']\n",
        "X_reg, y_reg"
      ],
      "metadata": {
        "colab": {
          "base_uri": "https://localhost:8080/"
        },
        "id": "k3evlOzY6kPM",
        "outputId": "94d3eea3-3658-45a8-b137-78cca3ea9bcb"
      },
      "execution_count": null,
      "outputs": [
        {
          "output_type": "execute_result",
          "data": {
            "text/plain": [
              "(     Pregnancies  Glucose  SkinThickness  Insulin   BMI  \\\n",
              " 0              6      148             35        0  33.6   \n",
              " 1              1       85             29        0  26.6   \n",
              " 2              8      183              0        0  23.3   \n",
              " 3              1       89             23       94  28.1   \n",
              " 4              0      137             35      168  43.1   \n",
              " ..           ...      ...            ...      ...   ...   \n",
              " 763           10      101             48      180  32.9   \n",
              " 764            2      122             27        0  36.8   \n",
              " 765            5      121             23      112  26.2   \n",
              " 766            1      126              0        0  30.1   \n",
              " 767            1       93             31        0  30.4   \n",
              " \n",
              "      DiabetesPedigreeFunction  Age  Outcome  \n",
              " 0                       0.627   50        1  \n",
              " 1                       0.351   31        0  \n",
              " 2                       0.672   32        1  \n",
              " 3                       0.167   21        0  \n",
              " 4                       2.288   33        1  \n",
              " ..                        ...  ...      ...  \n",
              " 763                     0.171   63        0  \n",
              " 764                     0.340   27        0  \n",
              " 765                     0.245   30        0  \n",
              " 766                     0.349   47        1  \n",
              " 767                     0.315   23        0  \n",
              " \n",
              " [768 rows x 8 columns],\n",
              " 0      72\n",
              " 1      66\n",
              " 2      64\n",
              " 3      66\n",
              " 4      40\n",
              "        ..\n",
              " 763    76\n",
              " 764    70\n",
              " 765    72\n",
              " 766    60\n",
              " 767    70\n",
              " Name: BloodPressure, Length: 768, dtype: int64)"
            ]
          },
          "metadata": {},
          "execution_count": 4
        }
      ]
    },
    {
      "cell_type": "markdown",
      "source": [
        "Split the Data:\n",
        "from sklearn.model_selection import train_test_split\n",
        "\n",
        "X_train_reg, X_test_reg, y_train_reg, y_test_reg = train_test_split(X_reg, y_reg, test_size=0.2, random_state=42)\n",
        "\n"
      ],
      "metadata": {
        "id": "JLSzx5hi6u2T"
      }
    },
    {
      "cell_type": "code",
      "source": [
        "import pandas as pd\n",
        "from sklearn.model_selection import train_test_split\n",
        "from sklearn.linear_model import LinearRegression\n",
        "from sklearn.metrics import mean_squared_error, r2_score\n",
        "\n",
        "\n",
        "# Step 2: Prepare data for regression\n",
        "# Features: All columns except 'BloodPressure'\n",
        "X_reg = data.drop('BloodPressure', axis=1)\n",
        "# Target: 'BloodPressure'\n",
        "y_reg = data['BloodPressure']\n",
        "\n",
        "# Step 3: Split the data into training and testing sets\n",
        "X_train_reg, X_test_reg, y_train_reg, y_test_reg = train_test_split(X_reg, y_reg, test_size=0.2, random_state=42)\n",
        "\n",
        "# Step 4: Create and train the Linear Regression model\n",
        "reg_model = LinearRegression()\n",
        "reg_model.fit(X_train_reg, y_train_reg)\n",
        "\n",
        "# Step 5: Make predictions\n",
        "y_pred_reg = reg_model.predict(X_test_reg)\n",
        "\n",
        "# Step 6: Evaluate the model\n",
        "mse = mean_squared_error(y_test_reg, y_pred_reg)\n",
        "r2 = r2_score(y_test_reg, y_pred_reg)\n",
        "\n",
        "print(f'Mean Squared Error: {mse}')\n",
        "print(f'R^2 Score: {r2}')\n"
      ],
      "metadata": {
        "colab": {
          "base_uri": "https://localhost:8080/"
        },
        "id": "KWCejRpN68j7",
        "outputId": "28b4e857-9319-41f4-bd15-3e3d1905cd50"
      },
      "execution_count": null,
      "outputs": [
        {
          "output_type": "stream",
          "name": "stdout",
          "text": [
            "Mean Squared Error: 402.8523890426408\n",
            "R^2 Score: 0.19403775986668115\n"
          ]
        }
      ]
    },
    {
      "cell_type": "markdown",
      "source": [
        "Evaluate the Model:\n",
        "\n"
      ],
      "metadata": {
        "id": "NO1nOfft7n1p"
      }
    },
    {
      "cell_type": "code",
      "source": [
        "import pandas as pd\n",
        "from sklearn.model_selection import train_test_split\n",
        "from sklearn.linear_model import LogisticRegression\n",
        "from sklearn.metrics import accuracy_score, classification_report, confusion_matrix\n",
        "\n",
        "\n",
        "# Step 2: Prepare data for classification\n",
        "# Features: All columns except 'Outcome'\n",
        "X_clf = data.drop('Outcome', axis=1)\n",
        "# Target: 'Outcome'\n",
        "y_clf = data['Outcome']\n",
        "\n",
        "# Step 3: Split the data into training and testing sets\n",
        "X_train_clf, X_test_clf, y_train_clf, y_test_clf = train_test_split(X_clf, y_clf, test_size=0.2, random_state=42)\n",
        "\n",
        "# Step 4: Create and train the Logistic Regression model\n",
        "clf_model = LogisticRegression(max_iter=200)\n",
        "clf_model.fit(X_train_clf, y_train_clf)\n",
        "\n",
        "# Step 5: Make predictions\n",
        "y_pred_clf = clf_model.predict(X_test_clf)\n",
        "\n",
        "# Step 6: Evaluate the model\n",
        "accuracy = accuracy_score(y_test_clf, y_pred_clf)\n",
        "conf_matrix = confusion_matrix(y_test_clf, y_pred_clf)\n",
        "class_report = classification_report(y_test_clf, y_pred_clf)\n",
        "\n",
        "# Step 7: Print evaluation results\n",
        "print(f'Accuracy: {accuracy}')\n",
        "print('Confusion Matrix:')\n",
        "print(conf_matrix)\n",
        "print('Classification Report:')\n",
        "print(class_report)\n"
      ],
      "metadata": {
        "colab": {
          "base_uri": "https://localhost:8080/"
        },
        "id": "ZIQrTL3j6wN-",
        "outputId": "02901658-9ab6-4836-8b48-c88d07ba0ae4"
      },
      "execution_count": null,
      "outputs": [
        {
          "output_type": "stream",
          "name": "stdout",
          "text": [
            "Accuracy: 0.7467532467532467\n",
            "Confusion Matrix:\n",
            "[[78 21]\n",
            " [18 37]]\n",
            "Classification Report:\n",
            "              precision    recall  f1-score   support\n",
            "\n",
            "           0       0.81      0.79      0.80        99\n",
            "           1       0.64      0.67      0.65        55\n",
            "\n",
            "    accuracy                           0.75       154\n",
            "   macro avg       0.73      0.73      0.73       154\n",
            "weighted avg       0.75      0.75      0.75       154\n",
            "\n"
          ]
        }
      ]
    },
    {
      "cell_type": "markdown",
      "source": [
        "\n",
        "### Summary\n",
        "\n",
        "- **Regression Task**: You trained a Linear Regression model to predict Blood Pressure and evaluated it using Mean Squared Error and R² Score.\n",
        "- **Classification Task**: You trained a Logistic Regression model to predict diabetes and evaluated it using accuracy, confusion matrix, and classification report.\n",
        "\n",
        "### Additional Considerations\n",
        "\n",
        "- **Hyperparameter Tuning**: For better performance, consider tuning hyperparameters using techniques like Grid Search or Random Search.\n",
        "- **Feature Scaling**: For models like KNN, ensure to scale your features using `StandardScaler` or `MinMaxScaler`.\n",
        "- **Exploratory Data Analysis (EDA)**: Perform EDA to understand the dataset better and visualize relationships between features.\n"
      ],
      "metadata": {
        "id": "68ws06Wm8LKb"
      }
    },
    {
      "cell_type": "code",
      "source": [],
      "metadata": {
        "id": "oPTTRypv8MuF"
      },
      "execution_count": null,
      "outputs": []
    }
  ]
}