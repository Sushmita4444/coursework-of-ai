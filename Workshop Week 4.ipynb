{
 "cells": [
  {
   "cell_type": "raw",
   "id": "034dcbf9-921d-4122-96ed-1a3ec27d7ecf",
   "metadata": {},
   "source": [
    "1. Load the Dataset:\n",
    "• Read the dataset into a pandas DataFrame.\n",
    "• Display the first few rows and perform exploratory data analysis (EDA) to understand the dataset\n",
    "(e.g., check data types, missing values, summary statistics)."
   ]
  },
  {
   "cell_type": "code",
   "execution_count": 1,
   "id": "5c80ebf5-d7c9-4477-b176-66c02710aa4f",
   "metadata": {},
   "outputs": [
    {
     "name": "stdout",
     "output_type": "stream",
     "text": [
      "First few rows of the dataset:\n"
     ]
    },
    {
     "data": {
      "text/html": [
       "<div>\n",
       "<style scoped>\n",
       "    .dataframe tbody tr th:only-of-type {\n",
       "        vertical-align: middle;\n",
       "    }\n",
       "\n",
       "    .dataframe tbody tr th {\n",
       "        vertical-align: top;\n",
       "    }\n",
       "\n",
       "    .dataframe thead th {\n",
       "        text-align: right;\n",
       "    }\n",
       "</style>\n",
       "<table border=\"1\" class=\"dataframe\">\n",
       "  <thead>\n",
       "    <tr style=\"text-align: right;\">\n",
       "      <th></th>\n",
       "      <th>PassengerId</th>\n",
       "      <th>Survived</th>\n",
       "      <th>Pclass</th>\n",
       "      <th>Name</th>\n",
       "      <th>Sex</th>\n",
       "      <th>Age</th>\n",
       "      <th>SibSp</th>\n",
       "      <th>Parch</th>\n",
       "      <th>Ticket</th>\n",
       "      <th>Fare</th>\n",
       "      <th>Cabin</th>\n",
       "      <th>Embarked</th>\n",
       "    </tr>\n",
       "  </thead>\n",
       "  <tbody>\n",
       "    <tr>\n",
       "      <th>0</th>\n",
       "      <td>1</td>\n",
       "      <td>0</td>\n",
       "      <td>3</td>\n",
       "      <td>Braund, Mr. Owen Harris</td>\n",
       "      <td>male</td>\n",
       "      <td>22.0</td>\n",
       "      <td>1</td>\n",
       "      <td>0</td>\n",
       "      <td>A/5 21171</td>\n",
       "      <td>7.2500</td>\n",
       "      <td>NaN</td>\n",
       "      <td>S</td>\n",
       "    </tr>\n",
       "    <tr>\n",
       "      <th>1</th>\n",
       "      <td>2</td>\n",
       "      <td>1</td>\n",
       "      <td>1</td>\n",
       "      <td>Cumings, Mrs. John Bradley (Florence Briggs Th...</td>\n",
       "      <td>female</td>\n",
       "      <td>38.0</td>\n",
       "      <td>1</td>\n",
       "      <td>0</td>\n",
       "      <td>PC 17599</td>\n",
       "      <td>71.2833</td>\n",
       "      <td>C85</td>\n",
       "      <td>C</td>\n",
       "    </tr>\n",
       "    <tr>\n",
       "      <th>2</th>\n",
       "      <td>3</td>\n",
       "      <td>1</td>\n",
       "      <td>3</td>\n",
       "      <td>Heikkinen, Miss. Laina</td>\n",
       "      <td>female</td>\n",
       "      <td>26.0</td>\n",
       "      <td>0</td>\n",
       "      <td>0</td>\n",
       "      <td>STON/O2. 3101282</td>\n",
       "      <td>7.9250</td>\n",
       "      <td>NaN</td>\n",
       "      <td>S</td>\n",
       "    </tr>\n",
       "    <tr>\n",
       "      <th>3</th>\n",
       "      <td>4</td>\n",
       "      <td>1</td>\n",
       "      <td>1</td>\n",
       "      <td>Futrelle, Mrs. Jacques Heath (Lily May Peel)</td>\n",
       "      <td>female</td>\n",
       "      <td>35.0</td>\n",
       "      <td>1</td>\n",
       "      <td>0</td>\n",
       "      <td>113803</td>\n",
       "      <td>53.1000</td>\n",
       "      <td>C123</td>\n",
       "      <td>S</td>\n",
       "    </tr>\n",
       "    <tr>\n",
       "      <th>4</th>\n",
       "      <td>5</td>\n",
       "      <td>0</td>\n",
       "      <td>3</td>\n",
       "      <td>Allen, Mr. William Henry</td>\n",
       "      <td>male</td>\n",
       "      <td>35.0</td>\n",
       "      <td>0</td>\n",
       "      <td>0</td>\n",
       "      <td>373450</td>\n",
       "      <td>8.0500</td>\n",
       "      <td>NaN</td>\n",
       "      <td>S</td>\n",
       "    </tr>\n",
       "  </tbody>\n",
       "</table>\n",
       "</div>"
      ],
      "text/plain": [
       "   PassengerId  Survived  Pclass  \\\n",
       "0            1         0       3   \n",
       "1            2         1       1   \n",
       "2            3         1       3   \n",
       "3            4         1       1   \n",
       "4            5         0       3   \n",
       "\n",
       "                                                Name     Sex   Age  SibSp  \\\n",
       "0                            Braund, Mr. Owen Harris    male  22.0      1   \n",
       "1  Cumings, Mrs. John Bradley (Florence Briggs Th...  female  38.0      1   \n",
       "2                             Heikkinen, Miss. Laina  female  26.0      0   \n",
       "3       Futrelle, Mrs. Jacques Heath (Lily May Peel)  female  35.0      1   \n",
       "4                           Allen, Mr. William Henry    male  35.0      0   \n",
       "\n",
       "   Parch            Ticket     Fare Cabin Embarked  \n",
       "0      0         A/5 21171   7.2500   NaN        S  \n",
       "1      0          PC 17599  71.2833   C85        C  \n",
       "2      0  STON/O2. 3101282   7.9250   NaN        S  \n",
       "3      0            113803  53.1000  C123        S  \n",
       "4      0            373450   8.0500   NaN        S  "
      ]
     },
     "execution_count": 1,
     "metadata": {},
     "output_type": "execute_result"
    }
   ],
   "source": [
    "import pandas as pd\n",
    "import numpy as np\n",
    "\n",
    "# Load the Titanic dataset\n",
    "data = pd.read_csv(\"titanic_dataset.csv\")\n",
    "print(\"First few rows of the dataset:\")\n",
    "data.head()"
   ]
  },
  {
   "cell_type": "code",
   "execution_count": 2,
   "id": "92a1e332-f7ab-4e5f-8a60-5464f515b8e9",
   "metadata": {},
   "outputs": [
    {
     "name": "stdout",
     "output_type": "stream",
     "text": [
      "\n",
      "Column Data Types:\n"
     ]
    },
    {
     "data": {
      "text/plain": [
       "PassengerId      int64\n",
       "Survived         int64\n",
       "Pclass           int64\n",
       "Name            object\n",
       "Sex             object\n",
       "Age            float64\n",
       "SibSp            int64\n",
       "Parch            int64\n",
       "Ticket          object\n",
       "Fare           float64\n",
       "Cabin           object\n",
       "Embarked        object\n",
       "dtype: object"
      ]
     },
     "execution_count": 2,
     "metadata": {},
     "output_type": "execute_result"
    }
   ],
   "source": [
    "print(\"\\nColumn Data Types:\")\n",
    "data.dtypes"
   ]
  },
  {
   "cell_type": "code",
   "execution_count": 3,
   "id": "120175f2-258d-4f44-bc38-027e06df931e",
   "metadata": {},
   "outputs": [
    {
     "name": "stdout",
     "output_type": "stream",
     "text": [
      "\n",
      "Missing Values in Each Column:\n"
     ]
    },
    {
     "data": {
      "text/plain": [
       "PassengerId      0\n",
       "Survived         0\n",
       "Pclass           0\n",
       "Name             0\n",
       "Sex              0\n",
       "Age            177\n",
       "SibSp            0\n",
       "Parch            0\n",
       "Ticket           0\n",
       "Fare             0\n",
       "Cabin          687\n",
       "Embarked         2\n",
       "dtype: int64"
      ]
     },
     "execution_count": 3,
     "metadata": {},
     "output_type": "execute_result"
    }
   ],
   "source": [
    "print(\"\\nMissing Values in Each Column:\")\n",
    "data.isnull().sum()"
   ]
  },
  {
   "cell_type": "code",
   "execution_count": 4,
   "id": "b50ef0db-c5c2-40f0-a217-6b0de0bdef16",
   "metadata": {},
   "outputs": [
    {
     "name": "stdout",
     "output_type": "stream",
     "text": [
      "\n",
      "Summary Statistics for Numerical Columns:\n",
      "       PassengerId    Survived      Pclass         Age       SibSp  \\\n",
      "count   891.000000  891.000000  891.000000  714.000000  891.000000   \n",
      "mean    446.000000    0.383838    2.308642   29.699118    0.523008   \n",
      "std     257.353842    0.486592    0.836071   14.526497    1.102743   \n",
      "min       1.000000    0.000000    1.000000    0.420000    0.000000   \n",
      "25%     223.500000    0.000000    2.000000   20.125000    0.000000   \n",
      "50%     446.000000    0.000000    3.000000   28.000000    0.000000   \n",
      "75%     668.500000    1.000000    3.000000   38.000000    1.000000   \n",
      "max     891.000000    1.000000    3.000000   80.000000    8.000000   \n",
      "\n",
      "            Parch        Fare  \n",
      "count  891.000000  891.000000  \n",
      "mean     0.381594   32.204208  \n",
      "std      0.806057   49.693429  \n",
      "min      0.000000    0.000000  \n",
      "25%      0.000000    7.910400  \n",
      "50%      0.000000   14.454200  \n",
      "75%      0.000000   31.000000  \n",
      "max      6.000000  512.329200  \n",
      "\n",
      "Summary Statistics for Categorical Columns:\n",
      "                           Name   Sex  Ticket    Cabin Embarked\n",
      "count                       891   891     891      204      889\n",
      "unique                      891     2     681      147        3\n",
      "top     Braund, Mr. Owen Harris  male  347082  B96 B98        S\n",
      "freq                          1   577       7        4      644\n"
     ]
    }
   ],
   "source": [
    "print(\"\\nSummary Statistics for Numerical Columns:\")\n",
    "print(data.describe())\n",
    "\n",
    "print(\"\\nSummary Statistics for Categorical Columns:\")\n",
    "print(data.describe(include='object'))"
   ]
  },
  {
   "cell_type": "code",
   "execution_count": 5,
   "id": "30972045-6b21-4d2f-8371-45c73e18a7e2",
   "metadata": {},
   "outputs": [
    {
     "name": "stdout",
     "output_type": "stream",
     "text": [
      "\n",
      "Shape of the Dataset (Rows, Columns): (891, 12)\n",
      "\n",
      "Unique Values per Column:\n",
      "PassengerId    891\n",
      "Survived         2\n",
      "Pclass           3\n",
      "Name           891\n",
      "Sex              2\n",
      "Age             88\n",
      "SibSp            7\n",
      "Parch            7\n",
      "Ticket         681\n",
      "Fare           248\n",
      "Cabin          147\n",
      "Embarked         3\n",
      "dtype: int64\n"
     ]
    }
   ],
   "source": [
    "# Shape of the dataset\n",
    "print(\"\\nShape of the Dataset (Rows, Columns):\", data.shape)\n",
    "\n",
    "# Count unique values in each column\n",
    "print(\"\\nUnique Values per Column:\")\n",
    "print(data.nunique())"
   ]
  },
  {
   "cell_type": "raw",
   "id": "f53e44fa-a451-49f5-b263-d3e8fe0c17ce",
   "metadata": {},
   "source": [
    "2. Handle Missing Data:\n",
    "• Handle any missing values appropriately, either by dropping or imputing them based on the data."
   ]
  },
  {
   "cell_type": "code",
   "execution_count": 6,
   "id": "efe21c0b-ca0a-4baf-9ecc-f223860003f2",
   "metadata": {},
   "outputs": [
    {
     "name": "stdout",
     "output_type": "stream",
     "text": [
      "\n",
      "Missing values after processing:\n",
      "PassengerId    0\n",
      "Survived       0\n",
      "Pclass         0\n",
      "Age            0\n",
      "SibSp          0\n",
      "Parch          0\n",
      "Fare           0\n",
      "dtype: int64\n"
     ]
    },
    {
     "name": "stderr",
     "output_type": "stream",
     "text": [
      "C:\\Users\\HP\\AppData\\Local\\Temp\\ipykernel_3812\\4131905106.py:7: FutureWarning: A value is trying to be set on a copy of a DataFrame or Series through chained assignment using an inplace method.\n",
      "The behavior will change in pandas 3.0. This inplace method will never work because the intermediate object on which we are setting values always behaves as a copy.\n",
      "\n",
      "For example, when doing 'df[col].method(value, inplace=True)', try using 'df.method({col: value}, inplace=True)' or df[col] = df[col].method(value) instead, to perform the operation inplace on the original object.\n",
      "\n",
      "\n",
      "  data[column].fillna(data[column].mean(), inplace=True)\n",
      "C:\\Users\\HP\\AppData\\Local\\Temp\\ipykernel_3812\\4131905106.py:7: FutureWarning: A value is trying to be set on a copy of a DataFrame or Series through chained assignment using an inplace method.\n",
      "The behavior will change in pandas 3.0. This inplace method will never work because the intermediate object on which we are setting values always behaves as a copy.\n",
      "\n",
      "For example, when doing 'df[col].method(value, inplace=True)', try using 'df.method({col: value}, inplace=True)' or df[col] = df[col].method(value) instead, to perform the operation inplace on the original object.\n",
      "\n",
      "\n",
      "  data[column].fillna(data[column].mean(), inplace=True)\n"
     ]
    }
   ],
   "source": [
    "categorical_columns = data.select_dtypes(include=['object']).columns\n",
    "data = data.drop(columns=[col for col in categorical_columns if col != 'Survived'])\n",
    "missing_info = data.isnull().sum() / len(data) * 100\n",
    "\n",
    "for column in data.columns:\n",
    "    if missing_info[column] < 10:\n",
    "        data[column].fillna(data[column].mean(), inplace=True)\n",
    "    else:\n",
    "        data.dropna(subset=[column], inplace=True)\n",
    " \n",
    "print(f\"\\nMissing values after processing:\\n{data.isnull().sum()}\")"
   ]
  },
  {
   "cell_type": "raw",
   "id": "e316465e-bac2-4358-818c-aa753c72693a",
   "metadata": {},
   "source": [
    "3. Feature Engineering:\n",
    "• Separate the feature matrix (X) and target variable (y).\n",
    "• Perform a train - test split from scratch using a 70% − 30% ratio."
   ]
  },
  {
   "cell_type": "code",
   "execution_count": 7,
   "id": "a9b8d647-7176-4aeb-8f00-5c6d91c2021e",
   "metadata": {},
   "outputs": [
    {
     "name": "stdout",
     "output_type": "stream",
     "text": [
      "Shape of X_train: (500, 6)\n",
      "Shape of X_test: (214, 6)\n",
      "Shape of y_train: (500,)\n",
      "Shape of y_test: (214,)\n"
     ]
    }
   ],
   "source": [
    "import numpy as np\n",
    "\n",
    "X = data.drop(columns=['Survived']).values\n",
    "y = data['Survived'].values\n",
    "\n",
    "def train_test_split_scratch(X, y, test_size=0.3, random_seed=42):\n",
    "    np.random.seed(random_seed)\n",
    "    indices = np.arange(X.shape[0])\n",
    "    np.random.shuffle(indices)\n",
    "\n",
    "    test_split_size = int(len(X) * test_size)\n",
    "    test_indices = indices[:test_split_size]\n",
    "    train_indices = indices[test_split_size:]\n",
    "\n",
    "    X_train, X_test = X[train_indices], X[test_indices]\n",
    "    y_train, y_test = y[train_indices], y[test_indices]\n",
    "\n",
    "    return X_train, X_test, y_train, y_test\n",
    "\n",
    "X_train, X_test, y_train, y_test = train_test_split_scratch(X, y, test_size=0.3)\n",
    "\n",
    "print(\"Shape of X_train:\", X_train.shape)\n",
    "print(\"Shape of X_test:\", X_test.shape)\n",
    "print(\"Shape of y_train:\", y_train.shape)\n",
    "print(\"Shape of y_test:\", y_test.shape)"
   ]
  },
  {
   "cell_type": "raw",
   "id": "5ad600f6-7e0f-4661-9478-19cde37ecc01",
   "metadata": {},
   "source": [
    "4. Implement KNN:\n",
    "• Build the KNN algorithm from scratch (no libraries like sickit-learn for KNN).\n",
    "• Compute distances using Euclidean distance.\n",
    "• Write functions for:\n",
    "– Predicting the class for a single query.\n",
    "– Predicting classes for all test samples.\n",
    "• Evaluate the performance using accuracy."
   ]
  },
  {
   "cell_type": "code",
   "execution_count": 8,
   "id": "6ba6d4c0-5acc-45b5-b3df-8da9777e513c",
   "metadata": {},
   "outputs": [],
   "source": [
    "import numpy as np\n",
    "\n",
    "def euclidean_distance(point1, point2):\n",
    "    # Check if the points are of the same dimension\n",
    "    if point1.shape != point2.shape:\n",
    "        raise ValueError(\"Points must have the same dimensions to calculate Euclidean distance.\")\n",
    "    \n",
    "    # Calculate the Euclidean distance\n",
    "    distance = np.sqrt(np.sum((point1 - point2) ** 2))\n",
    "    return distance"
   ]
  },
  {
   "cell_type": "code",
   "execution_count": 9,
   "id": "a5f2f437-c915-4cf9-a80f-7d40d16a3813",
   "metadata": {},
   "outputs": [],
   "source": [
    "import numpy as np\n",
    "\n",
    "# Function for KNN prediction for a single query\n",
    "def knn_predict_single(query, X_train, y_train, k=3):\n",
    "    distances = [euclidean_distance(query, x) for x in X_train]\n",
    "    sorted_indices = np.argsort(distances)\n",
    "    nearest_indices = sorted_indices[:k]\n",
    "    nearest_labels = y_train[nearest_indices]\n",
    "    prediction = np.bincount(nearest_labels).argmax()\n",
    "    return prediction\n",
    "\n",
    "# Function to test KNN for all test samples\n",
    "def knn_predict(X_test, X_train, y_train, k=3):\n",
    "    predictions = [knn_predict_single(x, X_train, y_train, k) for x in X_test]\n",
    "    return np.array(predictions)"
   ]
  },
  {
   "cell_type": "code",
   "execution_count": 10,
   "id": "0efd7a34-8822-4332-844c-0af6f78212b1",
   "metadata": {},
   "outputs": [
    {
     "name": "stdout",
     "output_type": "stream",
     "text": [
      "Accuracy of the KNN model on the test set: 62.62%\n"
     ]
    }
   ],
   "source": [
    "import numpy as np\n",
    "\n",
    "# Function to compute accuracy of predictions\n",
    "def compute_accuracy(y_true, y_pred):\n",
    "    correct_predictions = np.sum(y_true == y_pred)\n",
    "    total_predictions = len(y_true)\n",
    "    accuracy = (correct_predictions / total_predictions) * 100\n",
    "    return accuracy\n",
    "\n",
    "# Perform prediction on the entire test set\n",
    "try:\n",
    "    # Make predictions on the entire test set\n",
    "    predictions = knn_predict(X_test, X_train, y_train, k=3)\n",
    "    \n",
    "    # Compute the accuracy\n",
    "    accuracy = compute_accuracy(y_test, predictions)\n",
    "    \n",
    "    # Print the accuracy\n",
    "    print(f\"Accuracy of the KNN model on the test set: {accuracy:.2f}%\")\n",
    "except Exception as e:\n",
    "    print(f\"An unexpected error occurred during prediction or accuracy computation: {e}\")"
   ]
  },
  {
   "cell_type": "raw",
   "id": "7e3728e5-271b-41c1-b578-23193de276ac",
   "metadata": {},
   "source": [
    "1. Repeat the Classification Task:\n",
    "• Scale the Feature matrix X.\n",
    "• Use the scaled data for training and testing the kNN Classifier.\n",
    "• Record the results"
   ]
  },
  {
   "cell_type": "code",
   "execution_count": 11,
   "id": "6ba9769d-2553-4ae9-83fd-86bf2c3ea0a9",
   "metadata": {},
   "outputs": [
    {
     "name": "stdout",
     "output_type": "stream",
     "text": [
      "Accuracy of the KNN model on the test set: 66.36%\n"
     ]
    }
   ],
   "source": [
    "def scale_data(X):\n",
    "    mean = np.mean(X, axis=0)\n",
    "    std = np.std(X, axis=0)\n",
    "    \n",
    "    X_scaled = (X - mean) / std\n",
    "    return X_scaled\n",
    "\n",
    "X_test_scaled = scale_data(X_test)\n",
    "X_train_scaled = scale_data(X_train)\n",
    "predictions = knn_predict(X_test_scaled, X_train_scaled, y_train, k=3)\n",
    "accuracy = compute_accuracy(y_test, predictions)\n",
    "print(f\"Accuracy of the KNN model on the test set: {accuracy:.2f}%\")"
   ]
  },
  {
   "cell_type": "raw",
   "id": "0841527e-2179-4fd7-bda2-c72a725f8c04",
   "metadata": {},
   "source": [
    "Comparative Analysis: Compare the Results -\n",
    "• Compare the accuracy and performance of the kNN model on the original dataset from problem 1\n",
    "versus the scaled dataset.\n",
    "• Discuss:\n",
    "– How scaling impacted the KNN performance.\n",
    "– The reason for any observed changes in accuracy"
   ]
  },
  {
   "cell_type": "raw",
   "id": "25b7b30b-1dcc-4a47-86a6-dcc57eea2351",
   "metadata": {},
   "source": [
    "-> Scaling is the process of transforming the features (variables) of a dataset so that they have a consistent range or distribution. It ensures that no single feature disproportionately affects the performance of machine learning models that rely on distance-based or gradient-based methods.\n",
    "\n",
    "-> Min-Max Scaling:\n",
    "\n",
    "Rescales the data to fit within a specific range, usually [0, 1]. \n",
    "Example: If the feature age has values from 20 to 60, Min-Max scaling will transform 20 to 0 and 60 to 1."
   ]
  },
  {
   "cell_type": "raw",
   "id": "45c5a585-cad6-4fd2-bc79-5f01edb18a16",
   "metadata": {},
   "source": [
    "How Scaling Impacted kNN Performance:\n",
    "-> Accuracy:\n",
    "Scaling improved accuracy from 62.62% to 66.36% (~3.74% increase).\n",
    "This indicates that the scaled dataset enabled the kNN model to better classify data points.\n",
    "\n",
    "-> Computation Time:\n",
    "Time for computation decreased slightly from 1.167 seconds to 1.141 seconds.\n",
    "The reduction, though minor, reflects the efficiency gains from working with normalized feature values.\n",
    "\n",
    "-> Reasong for observed changes in accuracy\n",
    "1. Distance Metric Sensitivity:\n",
    "-> kNN relies on distance calculations (e.g., Euclidean distance) to find the nearest neighbors. Without scaling, features with larger ranges disproportionately influence these distances, leading to biased neighbor selection.\n",
    "-> After scaling, all features contribute equally to the distance metric, resulting in a more reliable neighborhood determination and better classification.\n",
    "\n",
    "2. Improved Generalization for 𝑘 = 3\n",
    "-> With 𝑘 = 3, the model balances noise sensitivity and generalization. Scaling reduces the noise caused by dominant features with large scales, allowing the three nearest neighbors to represent a more accurate relationship between samples.\n",
    "\n",
    "3. Feature Contribution Equality:\n",
    "-> Scaling ensures that features with different units or ranges (e.g., age in years vs. income in dollars) are treated equitably. This helps the model focus on patterns in the data rather than being skewed by feature magnitude differences."
   ]
  },
  {
   "cell_type": "raw",
   "id": "e8ca76d9-49de-4995-9e3b-9b8a5148ecab",
   "metadata": {},
   "source": [
    "1. Vary the number of neighbors - k:\n",
    "• Run the KNN model on both the original and scaled datasets for a range of: k= 1, 2, 3, . . . 15\n",
    "• For each k, record:\n",
    "– Accuracy.\n",
    "– Time taken to make predictions.\n",
    "\n",
    "2. Visualize the Results:\n",
    "• Plot the following graphs:\n",
    "– k vs. Accuracy for original and scaled datasets.\n",
    "– k vs. Time Taken for original and scaled datasets."
   ]
  },
  {
   "cell_type": "code",
   "execution_count": 13,
   "id": "f6f0484b-3155-4f13-bfed-e0668e2f929f",
   "metadata": {},
   "outputs": [
    {
     "name": "stdout",
     "output_type": "stream",
     "text": [
      "Accuracy for k=1 (Original Data): 62.15%\n",
      "Oringal Time: : 1.2922422885894775\n",
      "Accuracy for k=1 (Scaled Data): 61.68%\n",
      "Scaled Time: : 1.2688212394714355\n",
      "Accuracy for k=2 (Original Data): 63.55%\n",
      "Oringal Time: : 1.231339454650879\n",
      "Accuracy for k=2 (Scaled Data): 64.02%\n",
      "Scaled Time: : 1.1262388229370117\n",
      "Accuracy for k=3 (Original Data): 62.62%\n",
      "Oringal Time: : 1.1673569679260254\n",
      "Accuracy for k=3 (Scaled Data): 66.36%\n",
      "Scaled Time: : 1.1410157680511475\n",
      "Accuracy for k=4 (Original Data): 62.15%\n",
      "Oringal Time: : 1.1563138961791992\n",
      "Accuracy for k=4 (Scaled Data): 69.16%\n",
      "Scaled Time: : 1.1411223411560059\n",
      "Accuracy for k=5 (Original Data): 58.41%\n",
      "Oringal Time: : 1.1695785522460938\n",
      "Accuracy for k=5 (Scaled Data): 66.82%\n",
      "Scaled Time: : 1.134568691253662\n",
      "Accuracy for k=6 (Original Data): 61.68%\n",
      "Oringal Time: : 1.132854700088501\n",
      "Accuracy for k=6 (Scaled Data): 69.63%\n",
      "Scaled Time: : 1.144491195678711\n",
      "Accuracy for k=7 (Original Data): 61.21%\n",
      "Oringal Time: : 1.1702113151550293\n",
      "Accuracy for k=7 (Scaled Data): 66.36%\n",
      "Scaled Time: : 1.1478135585784912\n",
      "Accuracy for k=8 (Original Data): 64.49%\n",
      "Oringal Time: : 1.155787467956543\n",
      "Accuracy for k=8 (Scaled Data): 68.22%\n",
      "Scaled Time: : 1.1642165184020996\n",
      "Accuracy for k=9 (Original Data): 63.55%\n",
      "Oringal Time: : 1.1552369594573975\n",
      "Accuracy for k=9 (Scaled Data): 65.42%\n",
      "Scaled Time: : 1.1680991649627686\n",
      "Accuracy for k=10 (Original Data): 64.95%\n",
      "Oringal Time: : 1.1563301086425781\n",
      "Accuracy for k=10 (Scaled Data): 67.76%\n",
      "Scaled Time: : 1.1440935134887695\n",
      "Accuracy for k=11 (Original Data): 64.02%\n",
      "Oringal Time: : 1.1700801849365234\n",
      "Accuracy for k=11 (Scaled Data): 66.82%\n",
      "Scaled Time: : 1.1555662155151367\n",
      "Accuracy for k=12 (Original Data): 62.62%\n",
      "Oringal Time: : 1.178593397140503\n",
      "Accuracy for k=12 (Scaled Data): 68.69%\n",
      "Scaled Time: : 1.2055459022521973\n",
      "Accuracy for k=13 (Original Data): 63.08%\n",
      "Oringal Time: : 1.1553268432617188\n",
      "Accuracy for k=13 (Scaled Data): 67.76%\n",
      "Scaled Time: : 1.1836905479431152\n",
      "Accuracy for k=14 (Original Data): 64.49%\n",
      "Oringal Time: : 1.1702303886413574\n",
      "Accuracy for k=14 (Scaled Data): 69.63%\n",
      "Scaled Time: : 1.1536312103271484\n",
      "Experiment completed. Check the plot for the accuracy trend.\n"
     ]
    },
    {
     "data": {
      "image/png": "[encoded data removed]",
      "text/plain": [
       "<Figure size 640x480 with 2 Axes>"
      ]
     },
     "metadata": {},
     "output_type": "display_data"
    }
   ],
   "source": [
    "import matplotlib.pyplot as plt\n",
    "import numpy as np\n",
    "import time\n",
    "# Function to test KNN on different values of k and plot the accuracies\n",
    "def experiment_knn_k_values(X_train, y_train, X_test, y_test, k_values):\n",
    "    original_accuracies = []\n",
    "    scaled_accuracies = []\n",
    "    original_times = []\n",
    "    scaled_times = []\n",
    "\n",
    "    for k in k_values:\n",
    "        start_time = time.time()\n",
    "        predictions_original = knn_predict(X_test, X_train, y_train, k)\n",
    "        original_time = time.time() - start_time\n",
    "        original_accuracy = compute_accuracy(y_test, predictions_original)\n",
    "\n",
    "        X_train_scaled = scale_data(X_train)\n",
    "        X_test_scaled = scale_data(X_test)\n",
    "        start_time = time.time()\n",
    "        predictions_scaled = knn_predict(X_test_scaled, X_train_scaled, y_train, k)\n",
    "        scaled_time = time.time() - start_time\n",
    "        scaled_accuracy = compute_accuracy(y_test, predictions_scaled)\n",
    "\n",
    "        original_accuracies.append(original_accuracy)\n",
    "        scaled_accuracies.append(scaled_accuracy)\n",
    "        original_times.append(original_time)\n",
    "        scaled_times.append(scaled_time)\n",
    "        \n",
    "        print(f\"Accuracy for k={k} (Original Data): {original_accuracy:.2f}%\")\n",
    "        print(f\"Oringal Time: : {original_time}\")\n",
    "        print(f\"Accuracy for k={k} (Scaled Data): {scaled_accuracy:.2f}%\")\n",
    "        print(f\"Scaled Time: : {scaled_time}\")\n",
    "\n",
    "    # Accuracy Plot\n",
    "    plt.subplot(1, 2, 1)\n",
    "    plt.plot(k_values, original_accuracies, label='Original Data', marker='o')\n",
    "    plt.plot(k_values, scaled_accuracies, label='Scaled Data', marker='o')\n",
    "    plt.title('k vs Accuracy')\n",
    "    plt.xlabel('k (Number of Neighbors)')\n",
    "    plt.ylabel('Accuracy (%)')\n",
    "    plt.legend()\n",
    "\n",
    "    # Time Plot\n",
    "    plt.subplot(1, 2, 2)\n",
    "    plt.plot(k_values, original_times, label='Original Data', marker='o')\n",
    "    plt.plot(k_values, scaled_times, label='Scaled Data', marker='o')\n",
    "    plt.title('k vs Time Taken')\n",
    "    plt.xlabel('k (Number of Neighbors)')\n",
    "    plt.ylabel('Time Taken (seconds)')\n",
    "    plt.legend()\n",
    "\n",
    "    return original_accuracies, scaled_accuracies\n",
    "\n",
    "# Define the range of k values to experiment with\n",
    "k_values = range(1, 15)  # You can adjust this range as needed\n",
    "\n",
    "# Run the experiment\n",
    "try:\n",
    "    original_accuracies, scaled_accuracies = experiment_knn_k_values(X_train, y_train, X_test, y_test, k_values)\n",
    "    print(\"Experiment completed. Check the plot for the accuracy trend.\")\n",
    "except Exception as e:\n",
    "    print(f\"An unexpected error occurred during the experiment: {e}\")"
   ]
  },
  {
   "cell_type": "raw",
   "id": "d1c57ef4-54f3-4746-9f83-2cc47127b8ac",
   "metadata": {},
   "source": [
    "3. Analyze and Discuss:\n",
    "• Discuss how the choice of k affects the accuracy and computational cost.\n",
    "• Identify the optimal k based on your analysis"
   ]
  },
  {
   "cell_type": "raw",
   "id": "f2a46ea7-ac8e-4d99-8121-255418a01a2c",
   "metadata": {},
   "source": [
    "1. Accuracy:\n",
    "-> For small values of k (e.g., k=1), the model achieves lower accuracy due to overfitting. It is sensitive to noise, as it only considers the closest neighbor, which might not represent the overall pattern.\n",
    "Example: Accuracy for k=1 is 62.15% (original) and 61.68% (scaled).\n",
    "-> For larger values of  k, the accuracy stabilizes and improves, as the model averages over more neighbors, reducing sensitivity to noise and outliers.\n",
    "Example: Accuracy for k = 6 is 69.63% (scaled), which is significantly better than small k values.\n",
    "-> Excessively large  k can reduce accuracy because the model over-generalizes by including too many neighbors, some of which might belong to different classes.\n",
    "\n",
    "Computational Cost:\n",
    "-> As k increases, the computational cost per query remains relatively constant because the distance calculation depends on the size of the dataset, not k. However, increasing k does add marginal complexity for sorting and selecting the nearest k neighbors.\n",
    "-> In practice, the observed times show only small fluctuations in the range of ~1.1–1.2 seconds, indicating k does not significantly impact runtime."
   ]
  },
  {
   "cell_type": "raw",
   "id": "70aa5fa8-cf2e-408c-8932-776d830dfe2c",
   "metadata": {},
   "source": [
    "Problem - 4 - Additional Questions {Optional - But Highly Recommended}:\n",
    "• Discuss the challenges of using KNN for large datasets and high-dimensional data.\n",
    "• Suggest strategies to improve the efficiency of KNN (e.g., approximate nearest neighbors, dimensionality\n",
    "reduction)."
   ]
  },
  {
   "cell_type": "raw",
   "id": "1bc38f7b-6d1d-4f1f-b187-1410bfa539f6",
   "metadata": {},
   "source": [
    "Challenges of Using kNN for Large Datasets and High-Dimensional Data\n",
    "1. Computational Complexity:\n",
    "-> kNN is computationally expensive because it requires calculating distances between the query point and all points in the dataset for each prediction. This makes it inefficient for large datasets.\n",
    "-> Time complexity: O(N⋅d), where N is the number of data points, and d is the number of dimensions.\n",
    "\n",
    "2. Curse of Dimensionality:\n",
    "-> In high-dimensional data, all points tend to become equidistant, reducing the discriminative power of distance metrics like Euclidean distance. This phenomenon degrades kNN performance.\n",
    "\n",
    "3. Memory Usage:\n",
    "-> kNN stores the entire dataset in memory, which can be impractical for very large datasets.\n",
    "\n",
    "4. Sensitivity to Irrelevant Features:\n",
    "-> In high-dimensional spaces, irrelevant or noisy features contribute to the distance calculation, potentially misleading the model.\n",
    "\n",
    "5. Scaling Issues:\n",
    "-> Distance metrics are sensitive to feature scaling, and ensuring consistent scaling across features becomes challenging for high-dimensional datasets."
   ]
  },
  {
   "cell_type": "raw",
   "id": "7818809f-5ff8-4938-83e1-85117380b478",
   "metadata": {},
   "source": [
    "1. Approximate Nearest Neighbors (ANN) Algorithms:\n",
    "-> Use approximate techniques to find neighbors instead of exact distances. These methods trade off a small loss in accuracy for significant speed improvements.\n",
    "\n",
    "2. Dimensionality Reduction:\n",
    "-> Reduce the number of dimensions while preserving the most important data characteristics.\n",
    "\n",
    "3. Feature Selection:\n",
    "Eliminate irrelevant or redundant features to improve the discriminative power of the distance metric.\n",
    "\n",
    "4. Data Partitioning:\n",
    "-> Divide the dataset into smaller, manageable subsets or regions.\n",
    "\n",
    "5. Distance Metric Optimization:\n",
    "-> Replace Euclidean distance with domain-specific metrics or learned distance functions (e.g., Mahalanobis distance or neural distance metrics).\n",
    "\n",
    "6. Preprocessing for Scalability:\n",
    "-> Indexing Structures: Precompute and store data in indexed formats (e.g., VP-trees or Cover Trees) to speed up neighbor searches.\n",
    "\n",
    "7. Parallelization:\n",
    "-> Distribute distance calculations across multiple processors or use GPU acceleration to handle large datasets efficiently.\n",
    "\n",
    "8. Hybrid Methods:\n",
    "-> Combine kNN with other algorithms:\n",
    "    -> Use clustering (e.g., k-means) to group data and apply kNN only within relevant clusters.\n",
    "    -> Use kNN as a secondary step after another faster classifier narrows down candidate points.\n"
   ]
  }
 ],
 "metadata": {
  "kernelspec": {
   "display_name": "Python 3 (ipykernel)",
   "language": "python",
   "name": "python3"
  },
  "language_info": {
   "codemirror_mode": {
    "name": "ipython",
    "version": 3
   },
   "file_extension": ".py",
   "mimetype": "text/x-python",
   "name": "python",
   "nbconvert_exporter": "python",
   "pygments_lexer": "ipython3",
   "version": "3.12.0"
  }
 },
 "nbformat": 4,
 "nbformat_minor": 5
}
